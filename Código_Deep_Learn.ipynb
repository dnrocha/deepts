{
  "nbformat": 4,
  "nbformat_minor": 0,
  "metadata": {
    "colab": {
      "name": "Código Deep Learn",
      "provenance": [],
      "collapsed_sections": [],
      "include_colab_link": true
    },
    "kernelspec": {
      "name": "python3",
      "display_name": "Python 3"
    },
    "accelerator": "GPU"
  },
  "cells": [
    {
      "cell_type": "markdown",
      "metadata": {
        "id": "view-in-github",
        "colab_type": "text"
      },
      "source": [
        "<a href=\"https://colab.research.google.com/github/dnrocha/deepts/blob/master/C%C3%B3digo_Deep_Learn.ipynb\" target=\"_parent\"><img src=\"https://colab.research.google.com/assets/colab-badge.svg\" alt=\"Open In Colab\"/></a>"
      ]
    },
    {
      "cell_type": "markdown",
      "metadata": {
        "id": "zfV4Q2g18Lc9",
        "colab_type": "text"
      },
      "source": [
        "> INSTITUTO FEDERAL DO NORTE DE MINAS GERAIS - CAMPUS MONTES CLAROS\n",
        ">\n",
        ">\n",
        "> **Código de Aprendizagem Profunda Para Transferência de Estilo entre Imagens Digitais**\n",
        ">\n",
        ">\n",
        ">\n",
        "> *Autor: Daniel Antunes Rocha*\n"
      ]
    },
    {
      "cell_type": "code",
      "metadata": {
        "id": "t7qoaOMx9mxU",
        "colab_type": "code",
        "colab": {}
      },
      "source": [
        ""
      ],
      "execution_count": 0,
      "outputs": []
    }
  ]
}