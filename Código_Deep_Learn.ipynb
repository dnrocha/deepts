{
  "nbformat": 4,
  "nbformat_minor": 0,
  "metadata": {
    "colab": {
      "name": "Código Deep Learn",
      "provenance": [],
      "collapsed_sections": [
        "n4Mg2OsPcWNY",
        "VTUOm7AXfFEJ",
        "BcXHnvqmjvqL"
      ],
      "include_colab_link": true
    },
    "kernelspec": {
      "name": "python3",
      "display_name": "Python 3"
    },
    "accelerator": "GPU"
  },
  "cells": [
    {
      "cell_type": "markdown",
      "metadata": {
        "id": "view-in-github",
        "colab_type": "text"
      },
      "source": [
        "<a href=\"https://colab.research.google.com/github/dnrocha/deepts/blob/master/C%C3%B3digo_Deep_Learn.ipynb\" target=\"_parent\"><img src=\"https://colab.research.google.com/assets/colab-badge.svg\" alt=\"Open In Colab\"/></a>"
      ]
    },
    {
      "cell_type": "markdown",
      "metadata": {
        "id": "zfV4Q2g18Lc9",
        "colab_type": "text"
      },
      "source": [
        "> INSTITUTO FEDERAL DO NORTE DE MINAS GERAIS - CAMPUS MONTES CLAROS\n",
        ">\n",
        ">\n",
        "> # **Aprendizagem Profunda Para Transferência de Estilo entre Imagens Digitais**\n",
        ">\n",
        ">\n",
        "> Autor: Luis Meazzini\n",
        "> Discente: Daniel Antunes Rocha\n"
      ]
    },
    {
      "cell_type": "code",
      "metadata": {
        "id": "t7qoaOMx9mxU",
        "colab_type": "code",
        "outputId": "3dd0b5cb-4e9a-44cf-a1ea-79c58b13ceca",
        "colab": {
          "base_uri": "https://localhost:8080/",
          "height": 1000
        }
      },
      "source": [
        "!cat /proc/meminfo\n",
        "!cat /proc/cpuinfo\n",
        "!pip3 install tensorflow==1.8\n",
        "!pip3 install keras\n",
        "!pip3 install torch torchvision\n",
        "!apt-get install python-numpy python-scipy\n",
        "\n",
        "\n",
        "import numpy as np\n",
        "from PIL import Image\n",
        "import tensorflow as tf\n",
        "from keras import backend as K\n",
        "from keras.models import Model\n",
        "from keras.applications.vgg16 import VGG16\n",
        "from scipy.optimize import fmin_l_bfgs_b\n",
        "\n",
        "\n",
        "# -------------------------------------------- #\n",
        "#           Definição de Parâmetros            #\n",
        "# -------------------------------------------- #\n",
        "\n",
        "peso_conteudo = 0.02\n",
        "peso_estilo = 4.5\n",
        "variacao_peso = 0.995\n",
        "variacao_fator_custo = 1.25\n",
        "media_rgb_imagenet = [123.68, 116.779, 103.939]\n",
        "largura_imagem = 260\n",
        "altura_imagem = 260\n",
        "canais = 3 # R G B\n",
        "\n",
        "# -------------------------------------------- #\n",
        "#            Importação de Imagens             #\n",
        "# -------------------------------------------- #\n",
        "import os\n",
        "img_dir = '/tmp/nst'\n",
        "if not os.path.exists(img_dir):\n",
        "    os.makedirs(img_dir)\n",
        "\n",
        "!wget --quiet -P /tmp/nst/ https://upload.wikimedia.org/wikipedia/commons/0/00/Tuebingen_Neckarfront.jpg\n",
        "!wget --quiet -P /tmp/nst/ https://upload.wikimedia.org/wikipedia/commons/thumb/e/ea/Van_Gogh_-_Starry_Night_-_Google_Art_Project.jpg/1024px-Van_Gogh_-_Starry_Night_-_Google_Art_Project.jpg\n",
        "\n",
        "img_entrada = Image.open('/tmp/nst/Tuebingen_Neckarfront.jpg')\n",
        "img_entrada = img_entrada.resize((altura_imagem,largura_imagem))\n",
        "\n",
        "img_estilo = Image.open('/tmp/nst/1024px-Van_Gogh_-_Starry_Night_-_Google_Art_Project.jpg')\n",
        "img_estilo = img_estilo.resize((altura_imagem,largura_imagem))\n",
        "\n",
        "# -------------------------------------------- #\n",
        "#            Linearização de Imagens           #\n",
        "# -------------------------------------------- #\n",
        "\n",
        "img_entrada_arr = np.asarray(img_entrada, \"float32\")\n",
        "img_entrada_arr = np.expand_dims(img_entrada_arr, axis=0)\n",
        "img_entrada_arr[:, :, :, 0] -= media_rgb_imagenet[2]\n",
        "img_entrada_arr[:, :, :, 1] -= media_rgb_imagenet[1]\n",
        "img_entrada_arr[:, :, :, 2] -= media_rgb_imagenet[0]\n",
        "img_entrada_arr = img_entrada_arr[:, :, :, ::-1] # Troca BGR por RGB\n",
        "\n",
        "\n",
        "img_estilo_arr = np.asarray(img_estilo, \"float32\")\n",
        "img_estilo_arr = np.expand_dims(img_estilo_arr, axis=0)\n",
        "img_estilo_arr[:, :, :, 0] -= media_rgb_imagenet[2]\n",
        "img_estilo_arr[:, :, :, 1] -= media_rgb_imagenet[1]\n",
        "img_estilo_arr[:, :, :, 2] -= media_rgb_imagenet[0]\n",
        "img_estilo_arr = img_estilo_arr[:, :, :, ::-1] # Troca BGR por RGB"
      ],
      "execution_count": 1,
      "outputs": [
        {
          "output_type": "stream",
          "text": [
            "MemTotal:       13335192 kB\n",
            "MemFree:         6102960 kB\n",
            "MemAvailable:   12472656 kB\n",
            "Buffers:          142368 kB\n",
            "Cached:          6253320 kB\n",
            "SwapCached:            0 kB\n",
            "Active:          1227432 kB\n",
            "Inactive:        5601652 kB\n",
            "Active(anon):     390676 kB\n",
            "Inactive(anon):      320 kB\n",
            "Active(file):     836756 kB\n",
            "Inactive(file):  5601332 kB\n",
            "Unevictable:           0 kB\n",
            "Mlocked:               0 kB\n",
            "SwapTotal:             0 kB\n",
            "SwapFree:              0 kB\n",
            "Dirty:               772 kB\n",
            "Writeback:             0 kB\n",
            "AnonPages:        433456 kB\n",
            "Mapped:           237156 kB\n",
            "Shmem:               892 kB\n",
            "Slab:             292276 kB\n",
            "SReclaimable:     256808 kB\n",
            "SUnreclaim:        35468 kB\n",
            "KernelStack:        3680 kB\n",
            "PageTables:         5604 kB\n",
            "NFS_Unstable:          0 kB\n",
            "Bounce:                0 kB\n",
            "WritebackTmp:          0 kB\n",
            "CommitLimit:     6667596 kB\n",
            "Committed_AS:    2835136 kB\n",
            "VmallocTotal:   34359738367 kB\n",
            "VmallocUsed:           0 kB\n",
            "VmallocChunk:          0 kB\n",
            "AnonHugePages:         0 kB\n",
            "ShmemHugePages:        0 kB\n",
            "ShmemPmdMapped:        0 kB\n",
            "HugePages_Total:       0\n",
            "HugePages_Free:        0\n",
            "HugePages_Rsvd:        0\n",
            "HugePages_Surp:        0\n",
            "Hugepagesize:       2048 kB\n",
            "DirectMap4k:      176116 kB\n",
            "DirectMap2M:     7163904 kB\n",
            "DirectMap1G:     8388608 kB\n",
            "processor\t: 0\n",
            "vendor_id\t: GenuineIntel\n",
            "cpu family\t: 6\n",
            "model\t\t: 63\n",
            "model name\t: Intel(R) Xeon(R) CPU @ 2.30GHz\n",
            "stepping\t: 0\n",
            "microcode\t: 0x1\n",
            "cpu MHz\t\t: 2300.000\n",
            "cache size\t: 46080 KB\n",
            "physical id\t: 0\n",
            "siblings\t: 2\n",
            "core id\t\t: 0\n",
            "cpu cores\t: 1\n",
            "apicid\t\t: 0\n",
            "initial apicid\t: 0\n",
            "fpu\t\t: yes\n",
            "fpu_exception\t: yes\n",
            "cpuid level\t: 13\n",
            "wp\t\t: yes\n",
            "flags\t\t: fpu vme de pse tsc msr pae mce cx8 apic sep mtrr pge mca cmov pat pse36 clflush mmx fxsr sse sse2 ss ht syscall nx pdpe1gb rdtscp lm constant_tsc rep_good nopl xtopology nonstop_tsc cpuid tsc_known_freq pni pclmulqdq ssse3 fma cx16 pcid sse4_1 sse4_2 x2apic movbe popcnt aes xsave avx f16c rdrand hypervisor lahf_lm abm invpcid_single ssbd ibrs ibpb stibp fsgsbase tsc_adjust bmi1 avx2 smep bmi2 erms invpcid xsaveopt arat md_clear arch_capabilities\n",
            "bugs\t\t: cpu_meltdown spectre_v1 spectre_v2 spec_store_bypass l1tf mds swapgs\n",
            "bogomips\t: 4600.00\n",
            "clflush size\t: 64\n",
            "cache_alignment\t: 64\n",
            "address sizes\t: 46 bits physical, 48 bits virtual\n",
            "power management:\n",
            "\n",
            "processor\t: 1\n",
            "vendor_id\t: GenuineIntel\n",
            "cpu family\t: 6\n",
            "model\t\t: 63\n",
            "model name\t: Intel(R) Xeon(R) CPU @ 2.30GHz\n",
            "stepping\t: 0\n",
            "microcode\t: 0x1\n",
            "cpu MHz\t\t: 2300.000\n",
            "cache size\t: 46080 KB\n",
            "physical id\t: 0\n",
            "siblings\t: 2\n",
            "core id\t\t: 0\n",
            "cpu cores\t: 1\n",
            "apicid\t\t: 1\n",
            "initial apicid\t: 1\n",
            "fpu\t\t: yes\n",
            "fpu_exception\t: yes\n",
            "cpuid level\t: 13\n",
            "wp\t\t: yes\n",
            "flags\t\t: fpu vme de pse tsc msr pae mce cx8 apic sep mtrr pge mca cmov pat pse36 clflush mmx fxsr sse sse2 ss ht syscall nx pdpe1gb rdtscp lm constant_tsc rep_good nopl xtopology nonstop_tsc cpuid tsc_known_freq pni pclmulqdq ssse3 fma cx16 pcid sse4_1 sse4_2 x2apic movbe popcnt aes xsave avx f16c rdrand hypervisor lahf_lm abm invpcid_single ssbd ibrs ibpb stibp fsgsbase tsc_adjust bmi1 avx2 smep bmi2 erms invpcid xsaveopt arat md_clear arch_capabilities\n",
            "bugs\t\t: cpu_meltdown spectre_v1 spectre_v2 spec_store_bypass l1tf mds swapgs\n",
            "bogomips\t: 4600.00\n",
            "clflush size\t: 64\n",
            "cache_alignment\t: 64\n",
            "address sizes\t: 46 bits physical, 48 bits virtual\n",
            "power management:\n",
            "\n",
            "Requirement already satisfied: tensorflow==1.8 in /usr/local/lib/python3.6/dist-packages (1.8.0)\n",
            "Requirement already satisfied: astor>=0.6.0 in /usr/local/lib/python3.6/dist-packages (from tensorflow==1.8) (0.8.0)\n",
            "Requirement already satisfied: numpy>=1.13.3 in /usr/local/lib/python3.6/dist-packages (from tensorflow==1.8) (1.16.5)\n",
            "Requirement already satisfied: protobuf>=3.4.0 in /usr/local/lib/python3.6/dist-packages (from tensorflow==1.8) (3.7.1)\n",
            "Requirement already satisfied: wheel>=0.26 in /usr/local/lib/python3.6/dist-packages (from tensorflow==1.8) (0.33.6)\n",
            "Requirement already satisfied: absl-py>=0.1.6 in /usr/local/lib/python3.6/dist-packages (from tensorflow==1.8) (0.8.0)\n",
            "Requirement already satisfied: six>=1.10.0 in /usr/local/lib/python3.6/dist-packages (from tensorflow==1.8) (1.12.0)\n",
            "Requirement already satisfied: gast>=0.2.0 in /usr/local/lib/python3.6/dist-packages (from tensorflow==1.8) (0.2.2)\n",
            "Requirement already satisfied: tensorboard<1.9.0,>=1.8.0 in /usr/local/lib/python3.6/dist-packages (from tensorflow==1.8) (1.8.0)\n",
            "Requirement already satisfied: grpcio>=1.8.6 in /usr/local/lib/python3.6/dist-packages (from tensorflow==1.8) (1.15.0)\n",
            "Requirement already satisfied: termcolor>=1.1.0 in /usr/local/lib/python3.6/dist-packages (from tensorflow==1.8) (1.1.0)\n",
            "Requirement already satisfied: setuptools in /usr/local/lib/python3.6/dist-packages (from protobuf>=3.4.0->tensorflow==1.8) (41.2.0)\n",
            "Requirement already satisfied: markdown>=2.6.8 in /usr/local/lib/python3.6/dist-packages (from tensorboard<1.9.0,>=1.8.0->tensorflow==1.8) (3.1.1)\n",
            "Requirement already satisfied: html5lib==0.9999999 in /usr/local/lib/python3.6/dist-packages (from tensorboard<1.9.0,>=1.8.0->tensorflow==1.8) (0.9999999)\n",
            "Requirement already satisfied: bleach==1.5.0 in /usr/local/lib/python3.6/dist-packages (from tensorboard<1.9.0,>=1.8.0->tensorflow==1.8) (1.5.0)\n",
            "Requirement already satisfied: werkzeug>=0.11.10 in /usr/local/lib/python3.6/dist-packages (from tensorboard<1.9.0,>=1.8.0->tensorflow==1.8) (0.15.6)\n",
            "Requirement already satisfied: keras in /usr/local/lib/python3.6/dist-packages (2.2.5)\n",
            "Requirement already satisfied: keras-applications>=1.0.8 in /usr/local/lib/python3.6/dist-packages (from keras) (1.0.8)\n",
            "Requirement already satisfied: keras-preprocessing>=1.1.0 in /usr/local/lib/python3.6/dist-packages (from keras) (1.1.0)\n",
            "Requirement already satisfied: h5py in /usr/local/lib/python3.6/dist-packages (from keras) (2.8.0)\n",
            "Requirement already satisfied: pyyaml in /usr/local/lib/python3.6/dist-packages (from keras) (3.13)\n",
            "Requirement already satisfied: numpy>=1.9.1 in /usr/local/lib/python3.6/dist-packages (from keras) (1.16.5)\n",
            "Requirement already satisfied: six>=1.9.0 in /usr/local/lib/python3.6/dist-packages (from keras) (1.12.0)\n",
            "Requirement already satisfied: scipy>=0.14 in /usr/local/lib/python3.6/dist-packages (from keras) (1.3.1)\n",
            "Requirement already satisfied: torch in /usr/local/lib/python3.6/dist-packages (1.1.0)\n",
            "Requirement already satisfied: torchvision in /usr/local/lib/python3.6/dist-packages (0.3.0)\n",
            "Requirement already satisfied: numpy in /usr/local/lib/python3.6/dist-packages (from torch) (1.16.5)\n",
            "Requirement already satisfied: pillow>=4.1.1 in /usr/local/lib/python3.6/dist-packages (from torchvision) (4.3.0)\n",
            "Requirement already satisfied: six in /usr/local/lib/python3.6/dist-packages (from torchvision) (1.12.0)\n",
            "Requirement already satisfied: olefile in /usr/local/lib/python3.6/dist-packages (from pillow>=4.1.1->torchvision) (0.46)\n",
            "Reading package lists... Done\n",
            "Building dependency tree       \n",
            "Reading state information... Done\n",
            "python-numpy is already the newest version (1:1.13.3-2ubuntu1).\n",
            "python-scipy is already the newest version (0.19.1-2ubuntu1).\n",
            "0 upgraded, 0 newly installed, 0 to remove and 8 not upgraded.\n"
          ],
          "name": "stdout"
        },
        {
          "output_type": "stream",
          "text": [
            "Using TensorFlow backend.\n"
          ],
          "name": "stderr"
        }
      ]
    },
    {
      "cell_type": "markdown",
      "metadata": {
        "id": "Wn-gepTsMlR6",
        "colab_type": "text"
      },
      "source": [
        "# **Invocando o Deep Learning**\n"
      ]
    },
    {
      "cell_type": "code",
      "metadata": {
        "id": "MlZa6qVzMpO1",
        "colab_type": "code",
        "colab": {}
      },
      "source": [
        "entrada = K.variable(img_entrada_arr)\n",
        "estilo = K.variable(img_estilo_arr)\n",
        "imagem_combinada = K.placeholder((1, largura_imagem, altura_imagem, canais))\n",
        "\n",
        "tensor_entrada = K.concatenate([entrada, estilo, imagem_combinada], axis=0)\n",
        "model = VGG16(input_tensor=tensor_entrada, include_top=False, weights='imagenet')"
      ],
      "execution_count": 0,
      "outputs": []
    },
    {
      "cell_type": "markdown",
      "metadata": {
        "id": "n4Mg2OsPcWNY",
        "colab_type": "text"
      },
      "source": [
        "# Função do Custo de Conteúdo"
      ]
    },
    {
      "cell_type": "code",
      "metadata": {
        "id": "6PG15XeQcVZ_",
        "colab_type": "code",
        "colab": {}
      },
      "source": [
        "def custo_conteudo(conteudo, combinacao):\n",
        "    return K.sum(K.square(combinacao - conteudo))\n",
        "\n",
        "layers = dict([(layer.name, layer.output) for layer in model.layers])\n",
        "\n",
        "camada_conteudo = 'block2_conv2'\n",
        "camada_caracteristicas = layers[camada_conteudo]\n",
        "camada_conteudo_caracteristicas = camada_caracteristicas[0, :, :, :]\n",
        "caracteristicas_combinacao = camada_caracteristicas[2, :, :, :]\n",
        "\n",
        "custo = K.variable(0.)\n",
        "custo = peso_conteudo * custo_conteudo(camada_conteudo_caracteristicas, caracteristicas_combinacao)"
      ],
      "execution_count": 0,
      "outputs": []
    },
    {
      "cell_type": "markdown",
      "metadata": {
        "colab_type": "text",
        "id": "VTUOm7AXfFEJ"
      },
      "source": [
        "# Função do Custo de Estilo"
      ]
    },
    {
      "cell_type": "code",
      "metadata": {
        "colab_type": "code",
        "id": "mxx4gQjhfCrm",
        "colab": {}
      },
      "source": [
        "def gram_matrix(x):\n",
        "    caracteristicas = K.batch_flatten(K.permute_dimensions(x, (2, 0, 1)))\n",
        "    gram = K.dot(caracteristicas, K.transpose(caracteristicas))\n",
        "    return gram\n",
        "\n",
        "def calc_custo_estilo(estilo, combinacao):\n",
        "    estilo = gram_matrix(estilo)\n",
        "    combinacao = gram_matrix(combinacao)\n",
        "    tamanho = largura_imagem * altura_imagem\n",
        "    return K.sum(K.square(estilo - combinacao))/ (4. * (canais ** 2) * (tamanho ** 2))\n",
        "\n",
        "camadas_estilo = ['block1_conv2', 'block2_conv2', 'block3_conv3', 'block4_conv3', 'block5_conv3']\n",
        "\n",
        "for nome in camadas_estilo:\n",
        "  caracteristicas_camada = layers[nome]\n",
        "  caracteristicas_estilo = caracteristicas_camada[1, : , :, :]\n",
        "  caracteristicas_combinacao = caracteristicas_camada[2, :, :, :]\n",
        "  custo_estilo = calc_custo_estilo(caracteristicas_estilo, caracteristicas_combinacao)\n",
        "  custo += (peso_estilo / len(camadas_estilo)) * custo_estilo"
      ],
      "execution_count": 0,
      "outputs": []
    },
    {
      "cell_type": "markdown",
      "metadata": {
        "colab_type": "text",
        "id": "BcXHnvqmjvqL"
      },
      "source": [
        "# Função do Custo de Variação Total"
      ]
    },
    {
      "cell_type": "code",
      "metadata": {
        "colab_type": "code",
        "id": "vqmj3ba5jvqO",
        "colab": {}
      },
      "source": [
        "def custo_variacao_total(x):\n",
        "  a = K.square(x[ :, :largura_imagem-1, :altura_imagem-1, :] - x[ :, 1:, :altura_imagem-1, :])\n",
        "  b = K.square(x[ :, :largura_imagem-1, :altura_imagem-1, :] - x[ :, :altura_imagem-1, 1:, :])\n",
        "\n",
        "  return K.sum(K.pow(a+b, variacao_fator_custo))\n",
        "\n",
        "custo += variacao_peso * custo_variacao_total(imagem_combinada)"
      ],
      "execution_count": 0,
      "outputs": []
    },
    {
      "cell_type": "markdown",
      "metadata": {
        "id": "N56nz0OgGhX5",
        "colab_type": "text"
      },
      "source": [
        "# Otimização"
      ]
    },
    {
      "cell_type": "code",
      "metadata": {
        "id": "6ecO5hHmGpQR",
        "colab_type": "code",
        "colab": {}
      },
      "source": [
        "saidas = [custo]\n",
        "saidas += K.gradients(custo, imagem_combinada)\n",
        "\n",
        "def calculo_custo_e_gradientes(x):\n",
        "    x = x.reshape((1, largura_imagem, altura_imagem, canais))\n",
        "    outs = K.function([imagem_combinada], saidas)([x])\n",
        "    custo = outs[0]\n",
        "    gradients = outs[1].flatten().astype(\"float64\")\n",
        "    return custo, gradients\n",
        "\n",
        "\n",
        "class Evaluator: \n",
        "    def custo(self, x):\n",
        "        custo, gradients = calculo_custo_e_gradientes(x)\n",
        "        self._gradientes = gradients \n",
        "        return custo\n",
        "    \n",
        "    def gradientes(self, x):\n",
        "        return self._gradientes\n",
        "\n",
        "evaluator = Evaluator()\n",
        "\n",
        "# -------------------------------------------- #\n",
        "#        Utilizando Otimizador l-bfgs          #\n",
        "# -------------------------------------------- #\n",
        "\n",
        "x = np.random.uniform(0, 255, (1, largura_imagem, altura_imagem, canais)) - 128 \n",
        "n = 10 # numero de iteracoes\n",
        "#for i in range(n):\n",
        "#    x, custo, info = fmin_l_bfgs_b(evaluator.custo, x.flatten(), fprime=evaluator.gradientes, maxfun=20)\n",
        "#    print(\"Iteracao %d completa com custo: %d \" % (i+1, custo))\n",
        "\n",
        "for i in range(n):\n",
        "    x, custo, info = fmin_l_bfgs_b(evaluator.custo, x.flatten(), fprime=evaluator.gradientes, maxfun=20)\n",
        "    print(\"Iteracao %d completa com custo: %d\" % (i + 1, custo))\n",
        "\n",
        "x = x.reshape((largura_imagem, altura_imagem, canais))\n",
        "x = x[ :, :, ::-1] # BGR para RGB\n",
        "\n",
        "#retira normalizacao pela média ImageNet\n",
        "x[ :, :, 0] += media_rgb_imagenet[2]\n",
        "x[ :, :, 1] += media_rgb_imagenet[1]\n",
        "x[ :, :, 2] += media_rgb_imagenet[0]\n",
        "\n",
        "x = np.clip(x, 0, 255).astype(\"uint8\") #mantem os valores entre 0 e 255\n",
        "output_image = Image.fromarray(x)\n",
        "output_image.save('output.png')\n",
        "output_image.print('output.png')"
      ],
      "execution_count": 0,
      "outputs": []
    }
  ]
}