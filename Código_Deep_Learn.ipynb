{
  "nbformat": 4,
  "nbformat_minor": 0,
  "metadata": {
    "colab": {
      "name": "Código Deep Learn",
      "provenance": [],
      "collapsed_sections": [],
      "include_colab_link": true
    },
    "kernelspec": {
      "name": "python3",
      "display_name": "Python 3"
    },
    "accelerator": "GPU"
  },
  "cells": [
    {
      "cell_type": "markdown",
      "metadata": {
        "id": "view-in-github",
        "colab_type": "text"
      },
      "source": [
        "<a href=\"https://colab.research.google.com/github/dnrocha/deepts/blob/master/C%C3%B3digo_Deep_Learn.ipynb\" target=\"_parent\"><img src=\"https://colab.research.google.com/assets/colab-badge.svg\" alt=\"Open In Colab\"/></a>"
      ]
    },
    {
      "cell_type": "markdown",
      "metadata": {
        "id": "zfV4Q2g18Lc9",
        "colab_type": "text"
      },
      "source": [
        "> INSTITUTO FEDERAL DO NORTE DE MINAS GERAIS - CAMPUS MONTES CLAROS\n",
        ">\n",
        ">\n",
        "> # **Aprendizagem Profunda Para Transferência de Estilo entre Imagens Digitais**\n",
        ">\n",
        ">\n",
        ">\n",
        "> *Autor: Daniel Antunes Rocha*\n"
      ]
    },
    {
      "cell_type": "code",
      "metadata": {
        "id": "t7qoaOMx9mxU",
        "colab_type": "code",
        "colab": {}
      },
      "source": [
        "import numpy as np\n",
        "from PIL import Image\n",
        "import tensorflow as tf\n",
        "from keras import backend as K\n",
        "from keras.models import Model\n",
        "from keras.applications.vgg16 import VGG16\n",
        "from scipy.optimize import fmin_l_bfgs_b\n",
        "\n",
        "\n",
        "# -------------------------------------------- #\n",
        "#           Definição de Parâmetros            #\n",
        "# -------------------------------------------- #\n",
        "\n",
        "peso_conteudo = 0.02\n",
        "peso_estilo = 4.5\n",
        "variacao_peso = 0.995\n",
        "variacao_fator_custo = 1.25\n",
        "media_rgb_imagenet = [123.68, 116.779, 103.939]\n",
        "largura_imagem = 260\n",
        "altura_imagem = 260\n",
        "canais = 3 # R G B\n",
        "\n",
        "# -------------------------------------------- #\n",
        "#            Importação de Imagens             #\n",
        "# -------------------------------------------- #\n",
        "import os\n",
        "img_dir = '/tmp/nst'\n",
        "if not os.path.exists(img_dir):\n",
        "    os.makedirs(img_dir)\n",
        "\n",
        "!wget --quiet -P /tmp/nst/ https://upload.wikimedia.org/wikipedia/commons/0/00/Tuebingen_Neckarfront.jpg\n",
        "!wget --quiet -P /tmp/nst/ https://upload.wikimedia.org/wikipedia/commons/thumb/e/ea/Van_Gogh_-_Starry_Night_-_Google_Art_Project.jpg/1024px-Van_Gogh_-_Starry_Night_-_Google_Art_Project.jpg\n",
        "\n",
        "img_entrada = Image.open('/tmp/nst/Tuebingen_Neckarfront.jpg')\n",
        "img_entrada = img_entrada.resize((altura_imagem,largura_imagem))\n",
        "\n",
        "img_estilo = Image.open('/tmp/nst/1024px-Van_Gogh_-_Starry_Night_-_Google_Art_Project.jpg')\n",
        "img_estilo = img_estilo.resize((altura_imagem,largura_imagem))\n",
        "\n",
        "# -------------------------------------------- #\n",
        "#            Linearização de Imagens           #\n",
        "# -------------------------------------------- #\n",
        "\n",
        "img_entrada_arr = np.asarray(img_entrada, \"float32\")\n",
        "img_entrada_arr = np.expand_dims(img_entrada_arr, axis=0)\n",
        "img_entrada_arr[:, :, :, 0] -= media_rgb_imagenet[2]\n",
        "img_entrada_arr[:, :, :, 1] -= media_rgb_imagenet[1]\n",
        "img_entrada_arr[:, :, :, 2] -= media_rgb_imagenet[0]\n",
        "img_entrada_arr = img_entrada_arr[:, :, :, ::-1] # Troca BGR por RGB\n",
        "\n",
        "\n",
        "img_estilo_arr = np.asarray(img_estilo, \"float32\")\n",
        "img_estilo_arr = np.expand_dims(img_estilo_arr, axis=0)\n",
        "img_estilo_arr[:, :, :, 0] -= media_rgb_imagenet[2]\n",
        "img_estilo_arr[:, :, :, 1] -= media_rgb_imagenet[1]\n",
        "img_estilo_arr[:, :, :, 2] -= media_rgb_imagenet[0]\n",
        "img_estilo_arr = img_estilo_arr[:, :, :, ::-1] # Troca BGR por RGB"
      ],
      "execution_count": 0,
      "outputs": []
    },
    {
      "cell_type": "markdown",
      "metadata": {
        "id": "Wn-gepTsMlR6",
        "colab_type": "text"
      },
      "source": [
        "# **Invocando o Deep Learning**\n"
      ]
    },
    {
      "cell_type": "code",
      "metadata": {
        "id": "MlZa6qVzMpO1",
        "colab_type": "code",
        "colab": {}
      },
      "source": [
        "entrada = K.variable(img_entrada_arr)\n",
        "estilo = K.variable(img_estilo_arr)\n",
        "imagem_combinada = K.placeholder((1, largura_imagem, altura_imagem, canais))\n",
        "\n",
        "tensor_entrada = K.concatenate([entrada, estilo, imagem_combinada], axis=0)\n",
        "model = VGG16(input_tensor=tensor_entrada, include_top=False, weights='imagenet')"
      ],
      "execution_count": 0,
      "outputs": []
    },
    {
      "cell_type": "markdown",
      "metadata": {
        "id": "n4Mg2OsPcWNY",
        "colab_type": "text"
      },
      "source": [
        "# Função do Custo de Conteúdo"
      ]
    },
    {
      "cell_type": "code",
      "metadata": {
        "id": "6PG15XeQcVZ_",
        "colab_type": "code",
        "colab": {}
      },
      "source": [
        "def custo_conteudo(conteudo, combinacao):\n",
        "    return K.sum(K.square(combinacao - conteudo))\n",
        "\n",
        "layers = dict([(layer.name, layer.output) for layer in model.layers])\n",
        "\n",
        "camada_conteudo = 'block2_conv2'\n",
        "camada_caracteristicas = layers[camada_conteudo]\n",
        "camada_conteudo_caracteristicas = camada_caracteristicas[0, :, :, :]\n",
        "caracteristicas_combinacao = camada_caracteristicas[2, :, :, :]\n",
        "\n",
        "custo = K.variable(0.)\n",
        "custo = peso_conteudo * custo_conteudo(camada_conteudo_caracteristicas, caracteristicas_combinacao)"
      ],
      "execution_count": 0,
      "outputs": []
    },
    {
      "cell_type": "markdown",
      "metadata": {
        "colab_type": "text",
        "id": "VTUOm7AXfFEJ"
      },
      "source": [
        "# Função do Custo de Estilo"
      ]
    },
    {
      "cell_type": "code",
      "metadata": {
        "colab_type": "code",
        "id": "mxx4gQjhfCrm",
        "colab": {}
      },
      "source": [
        "def gram_matrix(x):\n",
        "    caracteristicas = K.batch_flatten(K.permute_dimensions(x, (2, 0, 1)))\n",
        "    gram = K.dot(caracteristicas, K.transpose(caracteristicas))\n",
        "    return gram\n",
        "\n",
        "def calc_custo_estilo(estilo, combinacao):\n",
        "    estilo = gram_matrix(estilo)\n",
        "    combinacao = gram_matrix(combinacao)\n",
        "    tamanho = largura_imagem * altura_imagem\n",
        "    return K.sum(K.square(estilo - combinacao))/ (4. * (canais ** 2) * (tamanho ** 2))\n",
        "\n",
        "camadas_estilo = ['block1_conv2', 'block2_conv2', 'block3_conv3', 'block4_conv3', 'block5_conv3']\n",
        "\n",
        "for nome in camadas_estilo:\n",
        "  caracteristicas_camada = layers[nome]\n",
        "  caracteristicas_estilo = caracteristicas_camada[1, : , :, :]\n",
        "  caracteristicas_combinacao = caracteristicas_camada[2, :, :, :]\n",
        "  custo_estilo = calc_custo_estilo(caracteristicas_estilo, caracteristicas_combinacao)\n",
        "  custo += (peso_estilo / len(camadas_estilo)) * custo_estilo"
      ],
      "execution_count": 0,
      "outputs": []
    },
    {
      "cell_type": "markdown",
      "metadata": {
        "colab_type": "text",
        "id": "BcXHnvqmjvqL"
      },
      "source": [
        "# Função do Custo de Variação Total"
      ]
    },
    {
      "cell_type": "code",
      "metadata": {
        "colab_type": "code",
        "id": "vqmj3ba5jvqO",
        "colab": {}
      },
      "source": [
        "def custo_variacao_total(x):\n",
        "  a = K.square(x[ :, :largura_imagem-1, :altura_imagem-1, :] - x[ :, 1:, :altura_imagem-1, :])\n",
        "  b = K.square(x[ :, :largura_imagem-1, :altura_imagem-1, :] - x[ :, :altura_imagem-1, 1:, :])\n",
        "\n",
        "  return K.sum(K.pow(a+b, variacao_fator_custo))\n",
        "\n",
        "custo += variacao_peso * custo_variacao_total(imagem_combinada)"
      ],
      "execution_count": 0,
      "outputs": []
    }
  ]
}